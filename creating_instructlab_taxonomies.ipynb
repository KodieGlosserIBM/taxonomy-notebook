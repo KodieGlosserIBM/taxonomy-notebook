{
  "cells": [
    {
      "cell_type": "markdown",
      "metadata": {
        "id": "S7ih7e5O6rX_",
        "tags": []
      },
      "source": [
        "# Creating InstructLab Taxonomies\n",
        "\n",
        "<ul>\n",
        "<li>Contributors: InstructLab team and IBM Research Technology Education team:\n",
        "<li>Questions and support: kochel@us.ibm.com, IBM.Research.JupyterLab@ibm.com\n",
        "<li>Release date: 2025-05-06\n",
        "</ul>"
      ]
    },
    {
      "cell_type": "markdown",
      "metadata": {
        "id": "Ics9GgZ-6rYB",
        "jp-MarkdownHeadingCollapsed": true,
        "tags": []
      },
      "source": [
        "# Overview\n",
        "This Jupyter notebook facilitates compiling taxonomies for InstructLab, an open source AI project that enables knowledge and skills contributions to Large Language Models (LLMs). This notebook performs the following:\n",
        "1. Accepts one or more of Question and Answer (QNA) files as input\n",
        "1. Performs yamllint checks on the QNA files to verify their formant\n",
        "1. Places the QNA files in the desired palce in a taxonomy\n",
        "1. Verifies the taxonomy by running the ilab diff function\n",
        "1. Creates a Tar file of the taxonomy and provides it to the Red Hat AI Service for Synthetic Data Generation\n",
        "\n",
        "This notebook can be run with the free Colab environment.\n"
      ]
    },
    {
      "cell_type": "markdown",
      "metadata": {
        "id": "OV_SZDBZgMVa"
      },
      "source": [
        "# Step 1. Clone the Instructlab Environment and Present Run Options\n",
        "\n",
        "Replicate the ilab data repository containing the pip requirements and data files.\n",
        "\n",
        "\n",
        "After selecting parameters, the remainder of this notebook can be run either:\n",
        "- Running All Cells by selecting Runtime->Run cell and below\n",
        "- Cell by cell by selecting the arrow on each code cell and running them sequentially.\n",
        "\n",
        "Run this next cell, select the following parameters, then follow the direction in the following cell to run the rest of this notebook.\n",
        "\n",
        "We've provided Question and Answer files for these datasets: \"2024 Oscar Awards Ceremony\", \"Quantum Roadmap and Patterns\" and \"Artificial Intelligence Agents\".\n",
        "\n",
        "The \"Multi-QNA Example\" dataset contains QNA files for Oscars, Quantum and Agentic AI to show now multiple QNA files can be provided and processed.\n",
        "\n",
        "Feel free to choose one of these datasets, or select \"Your Content 1\" or \"Your Content 2\" and follow the instructions below to provide your own data."
      ]
    },
    {
      "cell_type": "code",
      "execution_count": 2,
      "metadata": {
        "id": "9E0Z6oO2L_3I",
        "colab": {
          "base_uri": "https://localhost:8080/",
          "height": 137,
          "referenced_widgets": [
            "0387f0f4c1b74158bce8e990f0eb9f71",
            "8f64cbbffce0498bae38e21dca067cef",
            "d3cec2dd56514dbf85262b9291ef230b"
          ]
        },
        "outputId": "c910d733-6e39-4ad4-8977-b63a3789894a"
      },
      "outputs": [
        {
          "output_type": "display_data",
          "data": {
            "text/plain": [
              "<IPython.core.display.HTML object>"
            ],
            "text/html": [
              "\n",
              "  <style>\n",
              "    pre {\n",
              "        white-space: pre-wrap;\n",
              "    }\n",
              "  </style>\n",
              "  "
            ]
          },
          "metadata": {}
        },
        {
          "output_type": "stream",
          "name": "stdout",
          "text": [
            "\u001b[?25l   \u001b[90m━━━━━━━━━━━━━━━━━━━━━━━━━━━━━━━━━━━━━━━━\u001b[0m \u001b[32m0.0/278.0 kB\u001b[0m \u001b[31m?\u001b[0m eta \u001b[36m-:--:--\u001b[0m\r\u001b[2K   \u001b[90m━━━━━━━━━━━━━━━━━━━━━━━━━━━━━━━━━━━━━━━━\u001b[0m \u001b[32m278.0/278.0 kB\u001b[0m \u001b[31m14.2 MB/s\u001b[0m eta \u001b[36m0:00:00\u001b[0m\n",
            "\u001b[?25h\u001b[?25l   \u001b[90m━━━━━━━━━━━━━━━━━━━━━━━━━━━━━━━━━━━━━━━━\u001b[0m \u001b[32m0.0/4.5 MB\u001b[0m \u001b[31m?\u001b[0m eta \u001b[36m-:--:--\u001b[0m\r\u001b[2K   \u001b[91m━━━━━━━━━━━━━━━━━━━━━━━━━━━━━━━━━\u001b[0m\u001b[90m╺\u001b[0m\u001b[90m━━━━━━\u001b[0m \u001b[32m3.8/4.5 MB\u001b[0m \u001b[31m83.6 MB/s\u001b[0m eta \u001b[36m0:00:01\u001b[0m\r\u001b[2K   \u001b[90m━━━━━━━━━━━━━━━━━━━━━━━━━━━━━━━━━━━━━━━━\u001b[0m \u001b[32m4.5/4.5 MB\u001b[0m \u001b[31m58.5 MB/s\u001b[0m eta \u001b[36m0:00:00\u001b[0m\n",
            "\u001b[?25h\n",
            "Select the Dataset for this run:\n"
          ]
        },
        {
          "output_type": "display_data",
          "data": {
            "text/plain": [
              "ToggleButtons(description='Dataset:', options=('2024 Oscars', 'Quantum', 'Agentic AI', 'Multi-QNA Example', 'Y…"
            ],
            "application/vnd.jupyter.widget-view+json": {
              "version_major": 2,
              "version_minor": 0,
              "model_id": "0387f0f4c1b74158bce8e990f0eb9f71"
            }
          },
          "metadata": {}
        },
        {
          "output_type": "stream",
          "name": "stdout",
          "text": [
            "After selecting the dataset, select the next cell and then choose Runtime->Run cell and below\n"
          ]
        }
      ],
      "source": [
        "# Install these items first to avoid a later reset\n",
        "!pip install psutil==7.0.0 pillow==10.4.0 --quiet\n",
        "\n",
        "import os\n",
        "os.chdir('/content/')\n",
        "if os.path.exists(\"ilab\"):\n",
        "    !rm -rf ilab\n",
        "!git clone https://github.com/KenOcheltree/ilab-test.git --quiet --recurse-submodules ilab\n",
        "\n",
        "# Run this second cell to show parameters\n",
        "import ipywidgets as widgets\n",
        "data_set = widgets.ToggleButtons(\n",
        "    options=['2024 Oscars', 'Quantum', 'Agentic AI', 'Multi-QNA Example', 'Your Content 1', 'Your Content 2'],\n",
        "    description='Dataset:', style={\"button_width\": \"auto\"}\n",
        ")\n",
        "print(\"\\nSelect the Dataset for this run:\")\n",
        "display(data_set)\n",
        "print(\"After selecting the dataset, select the next cell and then choose Runtime->Run cell and below\")"
      ]
    },
    {
      "cell_type": "markdown",
      "metadata": {
        "id": "_dmB_IVBPkZ1",
        "jp-MarkdownHeadingCollapsed": true,
        "tags": []
      },
      "source": [
        "#Step 2. Prepare for Creating the Taxonomy\n",
        "\n",
        "## 2.1 Place your IBM Cloud and COS Access Credentials in Secrets\n",
        "\n",
        "When you configured IBM Cloud and COS access, you will have access keys and resource IDs that you need to provide to upload your taxonomy to the Red Hat AI Service. You need to set the following paramters in your secrets area (accessed by selecting the key icon on the left). Be sure to give notebook access to each of these parameters:\n",
        "\n",
        "- ibmcloud_key - a key to access your IBM Cloud account of the form \"XX_XXXXXXXXXXXXXXXXXX\"\n",
        "- ibmcloud_region - a value specifying your IBM Cloud region of the form \"us-east\"\n",
        "- ibmcloud_resource - a designator for yout resource of the form \"InstructLab\"\n",
        "- cos_id - an ID for your COS of the form \"crn:v1:bluemix:public:cloud-object-storage:global:a/0450...f04c::\"\n",
        "- cos_api_key - an API key for accessing your COS of the form \"XXX...XXX\"\n",
        "- cos_bucket=userdata.get(\"cos_bucket\") - the name of your COS bucket of the form \"ilabdata\"\n",
        "\n",
        "## 2.2 Provide the Taxonomy data\n",
        "\n",
        "You may want to run this notebook once with an existing dataset before creating your own to understand the Tasonomy creation flow.\n",
        "\n",
        "You can optionally provide your own InstructLab QNA file for processing in this step. Follow these steps to add your own dataset:\n",
        "1. Create your own qna.yaml file following the directions on the InstructLab taxonomy [readme](https://github.com/instructlab/taxonomy).\n",
        "1. After creating your qna.yaml file, add a comment in the first line that starts with *#Location:* and specifies the location of the file in the taxonomy. For example, a quantum computing qna.yaml file would have the following for the first line:\n",
        "```\n",
        "#location: /knowledge/information/computer_science/quantum_computing'\n",
        "```\n",
        "1. Add your qna.yaml to the /content/ilab/data/your_content_1 folder or the /content/ilab/data/your_content_2 folder by dragging and dropping them in the desired folder.\n",
        "1. If you want to include multiple qna.yaml files in your taxonomy, add a unique identifer \"NNN\" to the name so it is of the form qnaNNN.yaml. Any number of QNA files can be included as long as they have unique names\n",
        "1. You can now specify to run with your own data by selecting **Your Content 1** or **Your Content 2** in the next code cell.\n",
        "\n",
        "##2.3 Complete the Environment Set Up\n",
        "\n",
        "\n",
        "This code cell installs the remainder of the reuired pip packages and takes a few minutes to run.\n",
        "\n",
        "The InstructLab configuration is captured in the *config.yaml* file. This step creates the config.yaml file and sets **taxomony_path = taxonomy** - the root location of the taxonomy is set to the taxonomy folder in instructlab-latest\n",
        "\n",
        "**Note:** Ignore any pip inconsistency errors or warnings in the installation. They are inconsequential to the running of this notebook.\n",
        "\n",
        "**Note** If you perform **Runtime->Run cell and below** on this cell, the rest of notebook will take about 10 minutes to run. After running, it will present a prompt for providing questions to the pre-trained and trained models to test improvements in the model."
      ]
    },
    {
      "cell_type": "code",
      "execution_count": 3,
      "metadata": {
        "id": "QX9s4XZx6rYF",
        "colab": {
          "base_uri": "https://localhost:8080/",
          "height": 1000
        },
        "outputId": "a60b9599-cd53-4933-d647-b024a962be8d"
      },
      "outputs": [
        {
          "output_type": "display_data",
          "data": {
            "text/plain": [
              "<IPython.core.display.HTML object>"
            ],
            "text/html": [
              "\n",
              "  <style>\n",
              "    pre {\n",
              "        white-space: pre-wrap;\n",
              "    }\n",
              "  </style>\n",
              "  "
            ]
          },
          "metadata": {}
        },
        {
          "output_type": "stream",
          "name": "stdout",
          "text": [
            "Current platform is linux64. Downloading corresponding IBM Cloud CLI...\n",
            "  % Total    % Received % Xferd  Average Speed   Time    Time     Time  Current\n",
            "                                 Dload  Upload   Total   Spent    Left  Speed\n",
            "100 10.2M  100 10.2M    0     0  76.6M      0 --:--:-- --:--:-- --:--:-- 76.8M\n",
            "Download complete. Executing installer...\n",
            "Bluemix_CLI/\n",
            "Bluemix_CLI/install_bluemix_cli\n",
            "Bluemix_CLI/autocomplete/\n",
            "Bluemix_CLI/autocomplete/zsh_autocomplete\n",
            "Bluemix_CLI/autocomplete/bash_autocomplete\n",
            "Bluemix_CLI/bin/\n",
            "Bluemix_CLI/bin/ibmcloud\n",
            "Bluemix_CLI/bin/LICENSE\n",
            "Bluemix_CLI/bin/ibmcloud.sig\n",
            "Bluemix_CLI/bin/NOTICE\n",
            "Bluemix_CLI/install\n",
            "Bluemix_CLI/uninstall\n",
            "Install complete.\n",
            "Looking up '\u001b[36;1milab\u001b[0;22m' from repository '\u001b[36;1mIBM Cloud\u001b[0;22m'...\n",
            "Plug-in '\u001b[36;1milab\u001b[0;22m \u001b[36;1m0.0.22\u001b[0;22m' found in repository '\u001b[36;1mIBM Cloud\u001b[0;22m'\n",
            "Attempting to download the binary file...\n",
            " 20.24 MiB / 20.24 MiB  100.00% 0s\n",
            "21221216 bytes downloaded\n",
            "Installing binary...\n",
            "\u001b[32;1mOK\u001b[0;22m\n",
            "Plug-in '\u001b[36;1milab 0.0.22\u001b[0;22m' was successfully installed into /root/.bluemix/plugins/ilab. Use '\u001b[33;1mibmcloud plugin show ilab\u001b[0;22m' to show its details.\n",
            "Starting directory: /content/ilab\n",
            "\u001b[2K     \u001b[90m━━━━━━━━━━━━━━━━━━━━━━━━━━━━━━━━━━━━━━━━\u001b[0m \u001b[32m63.7/63.7 kB\u001b[0m \u001b[31m4.6 MB/s\u001b[0m eta \u001b[36m0:00:00\u001b[0m\n",
            "\u001b[2K     \u001b[90m━━━━━━━━━━━━━━━━━━━━━━━━━━━━━━━━━━━━━━━━\u001b[0m \u001b[32m58.6/58.6 kB\u001b[0m \u001b[31m4.0 MB/s\u001b[0m eta \u001b[36m0:00:00\u001b[0m\n",
            "\u001b[?25h  Preparing metadata (setup.py) ... \u001b[?25l\u001b[?25hdone\n",
            "\u001b[2K     \u001b[90m━━━━━━━━━━━━━━━━━━━━━━━━━━━━━━━━━━━━━━━━\u001b[0m \u001b[32m66.9/66.9 MB\u001b[0m \u001b[31m11.1 MB/s\u001b[0m eta \u001b[36m0:00:00\u001b[0m\n",
            "\u001b[?25h  Installing build dependencies ... \u001b[?25l\u001b[?25hdone\n",
            "  Getting requirements to build wheel ... \u001b[?25l\u001b[?25hdone\n",
            "  Installing backend dependencies ... \u001b[?25l\u001b[?25hdone\n",
            "  Preparing metadata (pyproject.toml) ... \u001b[?25l\u001b[?25hdone\n",
            "\u001b[2K     \u001b[90m━━━━━━━━━━━━━━━━━━━━━━━━━━━━━━━━━━━━━━━━\u001b[0m \u001b[32m61.0/61.0 kB\u001b[0m \u001b[31m3.7 MB/s\u001b[0m eta \u001b[36m0:00:00\u001b[0m\n",
            "\u001b[?25h  Preparing metadata (setup.py) ... \u001b[?25l\u001b[?25hdone\n",
            "\u001b[2K     \u001b[90m━━━━━━━━━━━━━━━━━━━━━━━━━━━━━━━━━━━━━━━━\u001b[0m \u001b[32m1.1/1.1 MB\u001b[0m \u001b[31m42.5 MB/s\u001b[0m eta \u001b[36m0:00:00\u001b[0m\n",
            "\u001b[?25h  Preparing metadata (setup.py) ... \u001b[?25l\u001b[?25hdone\n",
            "\u001b[2K     \u001b[90m━━━━━━━━━━━━━━━━━━━━━━━━━━━━━━━━━━━━━━━\u001b[0m \u001b[32m139.5/139.5 kB\u001b[0m \u001b[31m8.8 MB/s\u001b[0m eta \u001b[36m0:00:00\u001b[0m\n",
            "\u001b[?25h  Preparing metadata (setup.py) ... \u001b[?25l\u001b[?25hdone\n",
            "\u001b[2K     \u001b[90m━━━━━━━━━━━━━━━━━━━━━━━━━━━━━━━━━━━━━━\u001b[0m \u001b[32m162.6/162.6 kB\u001b[0m \u001b[31m11.0 MB/s\u001b[0m eta \u001b[36m0:00:00\u001b[0m\n",
            "\u001b[?25h  Preparing metadata (setup.py) ... \u001b[?25l\u001b[?25hdone\n",
            "\u001b[2K     \u001b[90m━━━━━━━━━━━━━━━━━━━━━━━━━━━━━━━━━━━━━━━━\u001b[0m \u001b[32m48.2/48.2 kB\u001b[0m \u001b[31m3.3 MB/s\u001b[0m eta \u001b[36m0:00:00\u001b[0m\n",
            "\u001b[2K     \u001b[90m━━━━━━━━━━━━━━━━━━━━━━━━━━━━━━━━━━━━━━━━\u001b[0m \u001b[32m50.5/50.5 kB\u001b[0m \u001b[31m3.0 MB/s\u001b[0m eta \u001b[36m0:00:00\u001b[0m\n",
            "\u001b[2K     \u001b[90m━━━━━━━━━━━━━━━━━━━━━━━━━━━━━━━━━━━━━━━━\u001b[0m \u001b[32m51.8/51.8 kB\u001b[0m \u001b[31m3.5 MB/s\u001b[0m eta \u001b[36m0:00:00\u001b[0m\n",
            "\u001b[?25h  Preparing metadata (setup.py) ... \u001b[?25l\u001b[?25hdone\n",
            "  Preparing metadata (setup.py) ... \u001b[?25l\u001b[?25hdone\n",
            "\u001b[2K   \u001b[90m━━━━━━━━━━━━━━━━━━━━━━━━━━━━━━━━━━━━━━━━\u001b[0m \u001b[32m288.5/288.5 kB\u001b[0m \u001b[31m18.1 MB/s\u001b[0m eta \u001b[36m0:00:00\u001b[0m\n",
            "\u001b[2K   \u001b[90m━━━━━━━━━━━━━━━━━━━━━━━━━━━━━━━━━━━━━━━━\u001b[0m \u001b[32m68.8/68.8 kB\u001b[0m \u001b[31m5.0 MB/s\u001b[0m eta \u001b[36m0:00:00\u001b[0m\n",
            "\u001b[2K   \u001b[90m━━━━━━━━━━━━━━━━━━━━━━━━━━━━━━━━━━━━━━━━\u001b[0m \u001b[32m139.9/139.9 kB\u001b[0m \u001b[31m9.4 MB/s\u001b[0m eta \u001b[36m0:00:00\u001b[0m\n",
            "\u001b[2K   \u001b[90m━━━━━━━━━━━━━━━━━━━━━━━━━━━━━━━━━━━━━━━━\u001b[0m \u001b[32m491.5/491.5 kB\u001b[0m \u001b[31m25.2 MB/s\u001b[0m eta \u001b[36m0:00:00\u001b[0m\n",
            "\u001b[2K   \u001b[90m━━━━━━━━━━━━━━━━━━━━━━━━━━━━━━━━━━━━━━━━\u001b[0m \u001b[32m166.1/166.1 kB\u001b[0m \u001b[31m11.0 MB/s\u001b[0m eta \u001b[36m0:00:00\u001b[0m\n",
            "\u001b[2K   \u001b[90m━━━━━━━━━━━━━━━━━━━━━━━━━━━━━━━━━━━━━━━━\u001b[0m \u001b[32m142.3/142.3 kB\u001b[0m \u001b[31m10.6 MB/s\u001b[0m eta \u001b[36m0:00:00\u001b[0m\n",
            "\u001b[2K   \u001b[90m━━━━━━━━━━━━━━━━━━━━━━━━━━━━━━━━━━━━━━━━\u001b[0m \u001b[32m94.4/94.4 kB\u001b[0m \u001b[31m6.3 MB/s\u001b[0m eta \u001b[36m0:00:00\u001b[0m\n",
            "\u001b[2K   \u001b[90m━━━━━━━━━━━━━━━━━━━━━━━━━━━━━━━━━━━━━━━━\u001b[0m \u001b[32m494.0/494.0 kB\u001b[0m \u001b[31m26.9 MB/s\u001b[0m eta \u001b[36m0:00:00\u001b[0m\n",
            "\u001b[2K   \u001b[90m━━━━━━━━━━━━━━━━━━━━━━━━━━━━━━━━━━━━━━━━\u001b[0m \u001b[32m78.9/78.9 kB\u001b[0m \u001b[31m5.0 MB/s\u001b[0m eta \u001b[36m0:00:00\u001b[0m\n",
            "\u001b[2K   \u001b[90m━━━━━━━━━━━━━━━━━━━━━━━━━━━━━━━━━━━━━━━━\u001b[0m \u001b[32m2.0/2.0 MB\u001b[0m \u001b[31m52.4 MB/s\u001b[0m eta \u001b[36m0:00:00\u001b[0m\n",
            "\u001b[2K   \u001b[90m━━━━━━━━━━━━━━━━━━━━━━━━━━━━━━━━━━━━━━━━\u001b[0m \u001b[32m107.5/107.5 kB\u001b[0m \u001b[31m8.2 MB/s\u001b[0m eta \u001b[36m0:00:00\u001b[0m\n",
            "\u001b[2K   \u001b[90m━━━━━━━━━━━━━━━━━━━━━━━━━━━━━━━━━━━━━━━━\u001b[0m \u001b[32m62.2/62.2 kB\u001b[0m \u001b[31m4.5 MB/s\u001b[0m eta \u001b[36m0:00:00\u001b[0m\n",
            "\u001b[2K   \u001b[90m━━━━━━━━━━━━━━━━━━━━━━━━━━━━━━━━━━━━━━━━\u001b[0m \u001b[32m18.3/18.3 MB\u001b[0m \u001b[31m55.3 MB/s\u001b[0m eta \u001b[36m0:00:00\u001b[0m\n",
            "\u001b[2K   \u001b[90m━━━━━━━━━━━━━━━━━━━━━━━━━━━━━━━━━━━━━━━━\u001b[0m \u001b[32m117.7/117.7 kB\u001b[0m \u001b[31m7.1 MB/s\u001b[0m eta \u001b[36m0:00:00\u001b[0m\n",
            "\u001b[2K   \u001b[90m━━━━━━━━━━━━━━━━━━━━━━━━━━━━━━━━━━━━━━━━\u001b[0m \u001b[32m906.5/906.5 MB\u001b[0m \u001b[31m1.8 MB/s\u001b[0m eta \u001b[36m0:00:00\u001b[0m\n",
            "\u001b[2K   \u001b[90m━━━━━━━━━━━━━━━━━━━━━━━━━━━━━━━━━━━━━━━━\u001b[0m \u001b[32m363.4/363.4 MB\u001b[0m \u001b[31m4.4 MB/s\u001b[0m eta \u001b[36m0:00:00\u001b[0m\n",
            "\u001b[2K   \u001b[90m━━━━━━━━━━━━━━━━━━━━━━━━━━━━━━━━━━━━━━━━\u001b[0m \u001b[32m13.8/13.8 MB\u001b[0m \u001b[31m65.7 MB/s\u001b[0m eta \u001b[36m0:00:00\u001b[0m\n",
            "\u001b[2K   \u001b[90m━━━━━━━━━━━━━━━━━━━━━━━━━━━━━━━━━━━━━━━━\u001b[0m \u001b[32m24.6/24.6 MB\u001b[0m \u001b[31m24.5 MB/s\u001b[0m eta \u001b[36m0:00:00\u001b[0m\n",
            "\u001b[2K   \u001b[90m━━━━━━━━━━━━━━━━━━━━━━━━━━━━━━━━━━━━━━━━\u001b[0m \u001b[32m883.7/883.7 kB\u001b[0m \u001b[31m35.9 MB/s\u001b[0m eta \u001b[36m0:00:00\u001b[0m\n",
            "\u001b[2K   \u001b[90m━━━━━━━━━━━━━━━━━━━━━━━━━━━━━━━━━━━━━━━━\u001b[0m \u001b[32m664.8/664.8 MB\u001b[0m \u001b[31m1.2 MB/s\u001b[0m eta \u001b[36m0:00:00\u001b[0m\n",
            "\u001b[2K   \u001b[90m━━━━━━━━━━━━━━━━━━━━━━━━━━━━━━━━━━━━━━━━\u001b[0m \u001b[32m211.5/211.5 MB\u001b[0m \u001b[31m4.7 MB/s\u001b[0m eta \u001b[36m0:00:00\u001b[0m\n",
            "\u001b[2K   \u001b[90m━━━━━━━━━━━━━━━━━━━━━━━━━━━━━━━━━━━━━━━━\u001b[0m \u001b[32m56.3/56.3 MB\u001b[0m \u001b[31m11.8 MB/s\u001b[0m eta \u001b[36m0:00:00\u001b[0m\n",
            "\u001b[2K   \u001b[90m━━━━━━━━━━━━━━━━━━━━━━━━━━━━━━━━━━━━━━━━\u001b[0m \u001b[32m127.9/127.9 MB\u001b[0m \u001b[31m7.4 MB/s\u001b[0m eta \u001b[36m0:00:00\u001b[0m\n",
            "\u001b[2K   \u001b[90m━━━━━━━━━━━━━━━━━━━━━━━━━━━━━━━━━━━━━━━━\u001b[0m \u001b[32m207.5/207.5 MB\u001b[0m \u001b[31m4.0 MB/s\u001b[0m eta \u001b[36m0:00:00\u001b[0m\n",
            "\u001b[2K   \u001b[90m━━━━━━━━━━━━━━━━━━━━━━━━━━━━━━━━━━━━━━━━\u001b[0m \u001b[32m21.1/21.1 MB\u001b[0m \u001b[31m74.3 MB/s\u001b[0m eta \u001b[36m0:00:00\u001b[0m\n",
            "\u001b[2K   \u001b[90m━━━━━━━━━━━━━━━━━━━━━━━━━━━━━━━━━━━━━━━━\u001b[0m \u001b[32m209.5/209.5 MB\u001b[0m \u001b[31m5.2 MB/s\u001b[0m eta \u001b[36m0:00:00\u001b[0m\n",
            "\u001b[2K   \u001b[90m━━━━━━━━━━━━━━━━━━━━━━━━━━━━━━━━━━━━━━━━\u001b[0m \u001b[32m10.2/10.2 MB\u001b[0m \u001b[31m107.6 MB/s\u001b[0m eta \u001b[36m0:00:00\u001b[0m\n",
            "\u001b[2K   \u001b[90m━━━━━━━━━━━━━━━━━━━━━━━━━━━━━━━━━━━━━━━━\u001b[0m \u001b[32m313.9/313.9 kB\u001b[0m \u001b[31m20.0 MB/s\u001b[0m eta \u001b[36m0:00:00\u001b[0m\n",
            "\u001b[2K   \u001b[90m━━━━━━━━━━━━━━━━━━━━━━━━━━━━━━━━━━━━━━━━\u001b[0m \u001b[32m13.5/13.5 MB\u001b[0m \u001b[31m97.5 MB/s\u001b[0m eta \u001b[36m0:00:00\u001b[0m\n",
            "\u001b[2K   \u001b[90m━━━━━━━━━━━━━━━━━━━━━━━━━━━━━━━━━━━━━━━━\u001b[0m \u001b[32m116.3/116.3 kB\u001b[0m \u001b[31m7.3 MB/s\u001b[0m eta \u001b[36m0:00:00\u001b[0m\n",
            "\u001b[2K   \u001b[90m━━━━━━━━━━━━━━━━━━━━━━━━━━━━━━━━━━━━━━━━\u001b[0m \u001b[32m45.5/45.5 kB\u001b[0m \u001b[31m2.9 MB/s\u001b[0m eta \u001b[36m0:00:00\u001b[0m\n",
            "\u001b[2K   \u001b[90m━━━━━━━━━━━━━━━━━━━━━━━━━━━━━━━━━━━━━━━━\u001b[0m \u001b[32m80.9/80.9 kB\u001b[0m \u001b[31m5.7 MB/s\u001b[0m eta \u001b[36m0:00:00\u001b[0m\n",
            "\u001b[2K   \u001b[90m━━━━━━━━━━━━━━━━━━━━━━━━━━━━━━━━━━━━━━━━\u001b[0m \u001b[32m15.1/15.1 MB\u001b[0m \u001b[31m90.4 MB/s\u001b[0m eta \u001b[36m0:00:00\u001b[0m\n",
            "\u001b[2K   \u001b[90m━━━━━━━━━━━━━━━━━━━━━━━━━━━━━━━━━━━━━━━━\u001b[0m \u001b[32m2.9/2.9 MB\u001b[0m \u001b[31m78.0 MB/s\u001b[0m eta \u001b[36m0:00:00\u001b[0m\n",
            "\u001b[2K   \u001b[90m━━━━━━━━━━━━━━━━━━━━━━━━━━━━━━━━━━━━━━━━\u001b[0m \u001b[32m95.2/95.2 kB\u001b[0m \u001b[31m6.0 MB/s\u001b[0m eta \u001b[36m0:00:00\u001b[0m\n",
            "\u001b[2K   \u001b[90m━━━━━━━━━━━━━━━━━━━━━━━━━━━━━━━━━━━━━━━━\u001b[0m \u001b[32m193.6/193.6 kB\u001b[0m \u001b[31m11.5 MB/s\u001b[0m eta \u001b[36m0:00:00\u001b[0m\n",
            "\u001b[2K   \u001b[90m━━━━━━━━━━━━━━━━━━━━━━━━━━━━━━━━━━━━━━━━\u001b[0m \u001b[32m3.6/3.6 MB\u001b[0m \u001b[31m84.7 MB/s\u001b[0m eta \u001b[36m0:00:00\u001b[0m\n",
            "\u001b[2K   \u001b[90m━━━━━━━━━━━━━━━━━━━━━━━━━━━━━━━━━━━━━━━━\u001b[0m \u001b[32m63.1/63.1 kB\u001b[0m \u001b[31m4.1 MB/s\u001b[0m eta \u001b[36m0:00:00\u001b[0m\n",
            "\u001b[2K   \u001b[90m━━━━━━━━━━━━━━━━━━━━━━━━━━━━━━━━━━━━━━━━\u001b[0m \u001b[32m73.7/73.7 kB\u001b[0m \u001b[31m4.3 MB/s\u001b[0m eta \u001b[36m0:00:00\u001b[0m\n",
            "\u001b[2K   \u001b[90m━━━━━━━━━━━━━━━━━━━━━━━━━━━━━━━━━━━━━━━━\u001b[0m \u001b[32m3.9/3.9 MB\u001b[0m \u001b[31m73.5 MB/s\u001b[0m eta \u001b[36m0:00:00\u001b[0m\n",
            "\u001b[2K   \u001b[90m━━━━━━━━━━━━━━━━━━━━━━━━━━━━━━━━━━━━━━━━\u001b[0m \u001b[32m42.2/42.2 kB\u001b[0m \u001b[31m2.4 MB/s\u001b[0m eta \u001b[36m0:00:00\u001b[0m\n",
            "\u001b[2K   \u001b[90m━━━━━━━━━━━━━━━━━━━━━━━━━━━━━━━━━━━━━━━━\u001b[0m \u001b[32m143.5/143.5 kB\u001b[0m \u001b[31m9.4 MB/s\u001b[0m eta \u001b[36m0:00:00\u001b[0m\n",
            "\u001b[2K   \u001b[90m━━━━━━━━━━━━━━━━━━━━━━━━━━━━━━━━━━━━━━━━\u001b[0m \u001b[32m92.0/92.0 kB\u001b[0m \u001b[31m6.0 MB/s\u001b[0m eta \u001b[36m0:00:00\u001b[0m\n",
            "\u001b[2K   \u001b[90m━━━━━━━━━━━━━━━━━━━━━━━━━━━━━━━━━━━━━━━━\u001b[0m \u001b[32m44.4/44.4 kB\u001b[0m \u001b[31m3.0 MB/s\u001b[0m eta \u001b[36m0:00:00\u001b[0m\n",
            "\u001b[2K   \u001b[90m━━━━━━━━━━━━━━━━━━━━━━━━━━━━━━━━━━━━━━━━\u001b[0m \u001b[32m2.9/2.9 MB\u001b[0m \u001b[31m76.6 MB/s\u001b[0m eta \u001b[36m0:00:00\u001b[0m\n",
            "\u001b[2K   \u001b[90m━━━━━━━━━━━━━━━━━━━━━━━━━━━━━━━━━━━━━━━━\u001b[0m \u001b[32m244.3/244.3 kB\u001b[0m \u001b[31m12.6 MB/s\u001b[0m eta \u001b[36m0:00:00\u001b[0m\n",
            "\u001b[2K   \u001b[90m━━━━━━━━━━━━━━━━━━━━━━━━━━━━━━━━━━━━━━━━\u001b[0m \u001b[32m472.8/472.8 kB\u001b[0m \u001b[31m25.2 MB/s\u001b[0m eta \u001b[36m0:00:00\u001b[0m\n",
            "\u001b[2K   \u001b[90m━━━━━━━━━━━━━━━━━━━━━━━━━━━━━━━━━━━━━━━━\u001b[0m \u001b[32m190.9/190.9 kB\u001b[0m \u001b[31m13.8 MB/s\u001b[0m eta \u001b[36m0:00:00\u001b[0m\n",
            "\u001b[2K   \u001b[90m━━━━━━━━━━━━━━━━━━━━━━━━━━━━━━━━━━━━━━━━\u001b[0m \u001b[32m63.9/63.9 kB\u001b[0m \u001b[31m4.5 MB/s\u001b[0m eta \u001b[36m0:00:00\u001b[0m\n",
            "\u001b[2K   \u001b[90m━━━━━━━━━━━━━━━━━━━━━━━━━━━━━━━━━━━━━━━━\u001b[0m \u001b[32m541.1/541.1 kB\u001b[0m \u001b[31m32.3 MB/s\u001b[0m eta \u001b[36m0:00:00\u001b[0m\n",
            "\u001b[2K   \u001b[90m━━━━━━━━━━━━━━━━━━━━━━━━━━━━━━━━━━━━━━━━\u001b[0m \u001b[32m739.1/739.1 kB\u001b[0m \u001b[31m39.2 MB/s\u001b[0m eta \u001b[36m0:00:00\u001b[0m\n",
            "\u001b[2K   \u001b[90m━━━━━━━━━━━━━━━━━━━━━━━━━━━━━━━━━━━━━━━━\u001b[0m \u001b[32m84.8/84.8 kB\u001b[0m \u001b[31m6.3 MB/s\u001b[0m eta \u001b[36m0:00:00\u001b[0m\n",
            "\u001b[2K   \u001b[90m━━━━━━━━━━━━━━━━━━━━━━━━━━━━━━━━━━━━━━━━\u001b[0m \u001b[32m62.5/62.5 kB\u001b[0m \u001b[31m4.3 MB/s\u001b[0m eta \u001b[36m0:00:00\u001b[0m\n",
            "\u001b[2K   \u001b[90m━━━━━━━━━━━━━━━━━━━━━━━━━━━━━━━━━━━━━━━━\u001b[0m \u001b[32m60.0/60.0 kB\u001b[0m \u001b[31m4.1 MB/s\u001b[0m eta \u001b[36m0:00:00\u001b[0m\n",
            "\u001b[2K   \u001b[90m━━━━━━━━━━━━━━━━━━━━━━━━━━━━━━━━━━━━━━━━\u001b[0m \u001b[32m619.5/619.5 kB\u001b[0m \u001b[31m27.7 MB/s\u001b[0m eta \u001b[36m0:00:00\u001b[0m\n",
            "\u001b[2K   \u001b[90m━━━━━━━━━━━━━━━━━━━━━━━━━━━━━━━━━━━━━━━━\u001b[0m \u001b[32m194.8/194.8 kB\u001b[0m \u001b[31m14.2 MB/s\u001b[0m eta \u001b[36m0:00:00\u001b[0m\n",
            "\u001b[2K   \u001b[90m━━━━━━━━━━━━━━━━━━━━━━━━━━━━━━━━━━━━━━━━\u001b[0m \u001b[32m84.0/84.0 kB\u001b[0m \u001b[31m6.0 MB/s\u001b[0m eta \u001b[36m0:00:00\u001b[0m\n",
            "\u001b[2K   \u001b[90m━━━━━━━━━━━━━━━━━━━━━━━━━━━━━━━━━━━━━━━━\u001b[0m \u001b[32m243.3/243.3 kB\u001b[0m \u001b[31m18.5 MB/s\u001b[0m eta \u001b[36m0:00:00\u001b[0m\n",
            "\u001b[2K   \u001b[90m━━━━━━━━━━━━━━━━━━━━━━━━━━━━━━━━━━━━━━━━\u001b[0m \u001b[32m104.1/104.1 kB\u001b[0m \u001b[31m7.6 MB/s\u001b[0m eta \u001b[36m0:00:00\u001b[0m\n",
            "\u001b[2K   \u001b[90m━━━━━━━━━━━━━━━━━━━━━━━━━━━━━━━━━━━━━━━━\u001b[0m \u001b[32m72.0/72.0 kB\u001b[0m \u001b[31m4.8 MB/s\u001b[0m eta \u001b[36m0:00:00\u001b[0m\n",
            "\u001b[2K   \u001b[90m━━━━━━━━━━━━━━━━━━━━━━━━━━━━━━━━━━━━━━━━\u001b[0m \u001b[32m5.2/5.2 MB\u001b[0m \u001b[31m90.3 MB/s\u001b[0m eta \u001b[36m0:00:00\u001b[0m\n",
            "\u001b[2K   \u001b[90m━━━━━━━━━━━━━━━━━━━━━━━━━━━━━━━━━━━━━━━━\u001b[0m \u001b[32m7.2/7.2 MB\u001b[0m \u001b[31m86.7 MB/s\u001b[0m eta \u001b[36m0:00:00\u001b[0m\n",
            "\u001b[2K   \u001b[90m━━━━━━━━━━━━━━━━━━━━━━━━━━━━━━━━━━━━━━━━\u001b[0m \u001b[32m169.4/169.4 kB\u001b[0m \u001b[31m11.1 MB/s\u001b[0m eta \u001b[36m0:00:00\u001b[0m\n",
            "\u001b[2K   \u001b[90m━━━━━━━━━━━━━━━━━━━━━━━━━━━━━━━━━━━━━━━━\u001b[0m \u001b[32m2.5/2.5 MB\u001b[0m \u001b[31m69.2 MB/s\u001b[0m eta \u001b[36m0:00:00\u001b[0m\n",
            "\u001b[2K   \u001b[90m━━━━━━━━━━━━━━━━━━━━━━━━━━━━━━━━━━━━━━━━\u001b[0m \u001b[32m62.8/62.8 kB\u001b[0m \u001b[31m4.5 MB/s\u001b[0m eta \u001b[36m0:00:00\u001b[0m\n",
            "\u001b[2K   \u001b[90m━━━━━━━━━━━━━━━━━━━━━━━━━━━━━━━━━━━━━━━━\u001b[0m \u001b[32m437.7/437.7 kB\u001b[0m \u001b[31m24.8 MB/s\u001b[0m eta \u001b[36m0:00:00\u001b[0m\n",
            "\u001b[2K   \u001b[90m━━━━━━━━━━━━━━━━━━━━━━━━━━━━━━━━━━━━━━━━\u001b[0m \u001b[32m1.2/1.2 MB\u001b[0m \u001b[31m49.6 MB/s\u001b[0m eta \u001b[36m0:00:00\u001b[0m\n",
            "\u001b[2K   \u001b[90m━━━━━━━━━━━━━━━━━━━━━━━━━━━━━━━━━━━━━━━━\u001b[0m \u001b[32m969.6/969.6 kB\u001b[0m \u001b[31m29.4 MB/s\u001b[0m eta \u001b[36m0:00:00\u001b[0m\n",
            "\u001b[2K   \u001b[90m━━━━━━━━━━━━━━━━━━━━━━━━━━━━━━━━━━━━━━━━\u001b[0m \u001b[32m91.1/91.1 kB\u001b[0m \u001b[31m5.4 MB/s\u001b[0m eta \u001b[36m0:00:00\u001b[0m\n",
            "\u001b[2K   \u001b[90m━━━━━━━━━━━━━━━━━━━━━━━━━━━━━━━━━━━━━━━━\u001b[0m \u001b[32m292.9/292.9 kB\u001b[0m \u001b[31m18.1 MB/s\u001b[0m eta \u001b[36m0:00:00\u001b[0m\n",
            "\u001b[2K   \u001b[90m━━━━━━━━━━━━━━━━━━━━━━━━━━━━━━━━━━━━━━━━\u001b[0m \u001b[32m272.8/272.8 kB\u001b[0m \u001b[31m17.1 MB/s\u001b[0m eta \u001b[36m0:00:00\u001b[0m\n",
            "\u001b[2K   \u001b[90m━━━━━━━━━━━━━━━━━━━━━━━━━━━━━━━━━━━━━━━━\u001b[0m \u001b[32m50.9/50.9 kB\u001b[0m \u001b[31m3.5 MB/s\u001b[0m eta \u001b[36m0:00:00\u001b[0m\n",
            "\u001b[?25h  Building wheel for ibm-cos-sdk (setup.py) ... \u001b[?25l\u001b[?25hdone\n",
            "  Building wheel for ibm-cos-sdk-core (setup.py) ... \u001b[?25l\u001b[?25hdone\n",
            "  Building wheel for ibm-cos-sdk-s3transfer (setup.py) ... \u001b[?25l\u001b[?25hdone\n",
            "  Building wheel for llama_cpp_python (pyproject.toml) ... \u001b[?25l\u001b[?25hdone\n",
            "  Building wheel for rouge-score (setup.py) ... \u001b[?25l\u001b[?25hdone\n",
            "  Building wheel for pylatexenc (setup.py) ... \u001b[?25l\u001b[?25hdone\n",
            "  Building wheel for sqlitedict (setup.py) ... \u001b[?25l\u001b[?25hdone\n",
            "  Building wheel for word2number (setup.py) ... \u001b[?25l\u001b[?25hdone\n",
            "\u001b[31mERROR: pip's dependency resolver does not currently take into account all the packages that are installed. This behaviour is the source of the following dependency conflicts.\n",
            "google-colab 1.0.0 requires requests==2.32.3, but you have requests 2.32.2 which is incompatible.\n",
            "thinc 8.3.6 requires numpy<3.0.0,>=2.0.0, but you have numpy 1.26.4 which is incompatible.\n",
            "gcsfs 2025.3.2 requires fsspec==2025.3.2, but you have fsspec 2025.3.0 which is incompatible.\n",
            "torchaudio 2.6.0+cu124 requires torch==2.6.0, but you have torch 2.5.1 which is incompatible.\u001b[0m\u001b[31m\n",
            "\u001b[0mPlatform:\n",
            "  sys.version: 3.11.12 (main, Apr  9 2025, 08:55:54) [GCC 11.4.0]\n",
            "  sys.platform: linux\n",
            "  os.name: posix\n",
            "  platform.release: 6.1.123+\n",
            "  platform.machine: x86_64\n",
            "  platform.node: 50f6365264ea\n",
            "  platform.python_version: 3.11.12\n",
            "  os-release.ID: ubuntu\n",
            "  os-release.VERSION_ID: 22.04\n",
            "  os-release.PRETTY_NAME: Ubuntu 22.04.4 LTS\n",
            "  memory.total: 12.67 GB\n",
            "  memory.available: 11.56 GB\n",
            "  memory.used: 0.79 GB\n",
            "\n",
            "InstructLab:\n",
            "  instructlab.version: 0.25.0\n",
            "  instructlab-dolomite.version: 0.2.0\n",
            "  instructlab-eval.version: 0.6.0\n",
            "  instructlab-quantize.version: 0.1.0\n",
            "  instructlab-schema.version: 0.4.2\n",
            "  instructlab-sdg.version: 0.8.2\n",
            "  instructlab-training.version: 0.11\n",
            "\n",
            "Torch:\n",
            "  torch.version: 2.5.1+cu124\n",
            "  torch.backends.cpu.capability: AVX2\n",
            "  torch.version.cuda: 12.4\n",
            "  torch.version.hip: None\n",
            "  torch.cuda.available: False\n",
            "  torch.backends.cuda.is_built: True\n",
            "  torch.backends.mps.is_built: False\n",
            "  torch.backends.mps.is_available: False\n",
            "\n",
            "llama_cpp_python:\n",
            "  llama_cpp_python.version: 0.3.6\n",
            "  llama_cpp_python.supports_gpu_offload: False\n",
            "Initialized ilab\n",
            "Running ilab config init\n",
            "\n",
            "----------------------------------------------------\n",
            "         Welcome to the InstructLab CLI\n",
            "  This guide will help you to setup your environment\n",
            "----------------------------------------------------\n",
            "\n",
            "Please provide the following values to initiate the environment [press 'Enter' for default options when prompted]\n",
            "Path to taxonomy repo [/root/.local/share/instructlab/taxonomy]: Path to your model [/root/.cache/instructlab/models/granite-7b-lab-Q4_K_M.gguf]: \n",
            "Generating config file:\n",
            "    /root/.config/instructlab/config.yaml\n",
            "\n",
            "WARNING 2025-05-09 16:52:23,721 instructlab.config.init:125: ilab is only officially supported on Linux and MacOS with M-Series Chips\n",
            "\u001b[32mPlease choose a system profile.\n",
            "Profiles set hardware-specific defaults for all commands and sections of the configuration.\u001b[0m\n",
            "\u001b[37m\u001b[44mFirst, please select the hardware vendor your system falls into\u001b[0m\n",
            "[0] NO SYSTEM PROFILE\n",
            "[1] NVIDIA\n",
            "[2] APPLE\n",
            "[3] INTEL\n",
            "[4] AMD\n",
            "Enter the number of your choice [0]: Error: 'models/granite-7b-lab-Q4_K_M.gguf' is not a valid integer range.\n",
            "Enter the number of your choice [0]: No profile selected - ilab will use generic code defaults - these may not be optimized for your system.\n",
            "\n",
            "--------------------------------------------\n",
            "    Initialization completed successfully!\n",
            "  You're ready to start using `ilab`. Enjoy!\n",
            "--------------------------------------------\n"
          ]
        }
      ],
      "source": [
        "# You can run the rest of the notebook by selecting this cell and choosing \"Runtime->Run cell and below\"\n",
        "\n",
        "# Acquire access to secret keys\n",
        "from google.colab import userdata\n",
        "\n",
        "# Wrap Code cell output\n",
        "from IPython.display import HTML, display\n",
        "def set_css():\n",
        "  display(HTML('''\n",
        "  <style>\n",
        "    pre {\n",
        "        white-space: pre-wrap;\n",
        "    }\n",
        "  </style>\n",
        "  '''))\n",
        "get_ipython().events.register('pre_run_cell', set_css)\n",
        "\n",
        "# Install the ibmcloud plugin\n",
        "!curl -fsSL https://clis.cloud.ibm.com/install/linux | sh\n",
        "!ibmcloud plugin install ilab -f\n",
        "\n",
        "# Install the rest of the requirements\n",
        "os.chdir('/content/ilab/')\n",
        "print(\"Starting directory: \"+ os.getcwd())\n",
        "!pip install -r requirements.txt --quiet\n",
        "!ilab system info\n",
        "\n",
        "from IPython.display import Image, display\n",
        "import shutil\n",
        "\n",
        "# Initialize ilab\n",
        "base_dir=\"/root/\"\n",
        "taxonomy_path='taxonomy'\n",
        "model_path = \"models/granite-7b-lab-Q4_K_M.gguf\"\n",
        "\n",
        "# Remove old ilab configuration data\n",
        "if os.path.exists(base_dir+\".local/share/instructlab\"):\n",
        "    print(\"removing \" + base_dir+\".local/share/instructlab\")\n",
        "    shutil.rmtree(base_dir+\".local/share/instructlab\")\n",
        "\n",
        "# Initialize local instructlab isntall\n",
        "print(\"Initialized ilab\")\n",
        "command = f\"\"\"\n",
        "ilab config init<<EOF\n",
        "{taxonomy_path}\n",
        "Y\n",
        "{model_path}\n",
        "0\n",
        "EOF\n",
        "\"\"\"\n",
        "# Using the ! operator to run the command\n",
        "!echo \"Running ilab config init\"\n",
        "!{command}"
      ]
    },
    {
      "cell_type": "markdown",
      "source": [
        "# Step 3. Initialize Red Hat AI InstructLab Access"
      ],
      "metadata": {
        "id": "pbw25B-4yrc3"
      }
    },
    {
      "cell_type": "code",
      "source": [
        "print(\"Initialize Red Hat AI InstructLab Access\")\n",
        "print(\"Installing the IBMCloud ilab plugin\")\n",
        "\n",
        "import os\n",
        "import subprocess\n",
        "import time\n",
        "import ibm_boto3\n",
        "from ibm_botocore.client import Config\n",
        "from ibm_botocore.exceptions import ClientError\n",
        "\n",
        "# Pull data from secrets\n",
        "ibmcloud_key=userdata.get(\"ibmcloud_key\")\n",
        "ibmcloud_region=userdata.get(\"ibmcloud_region\")\n",
        "ibmcloud_resource=userdata.get(\"ibmcloud_resource\")\n",
        "cos_bucket=userdata.get(\"cos_bucket\")\n",
        "\n",
        "!ibmcloud config --check-version=false\n",
        "shell_command = f\"ibmcloud login -apikey {ibmcloud_key} -r {ibmcloud_region} -g {ibmcloud_resource}\"\n",
        "!{shell_command}\n",
        "\n",
        "# !ibmcloud resource service-instances --service-name instructlab --long\n",
        "proj_index=0\n",
        "response = subprocess.check_output(\"ibmcloud resource service-instances --service-name instructlab --long\", shell=True).decode(\"utf-8\").split()\n",
        "for index, word in enumerate(response):\n",
        "    if word == \"GUID:\":\n",
        "        proj_index=index+1\n",
        "        break\n",
        "if proj_index==0:\n",
        "    print(\"Assign project-id\")\n",
        "    !ibmcloud resource service-instance-create 'instructlab' instructlab instructlab-pricing-plan us-east\n",
        "    for index, word in enumerate(response):\n",
        "        if word == \"GUID:\":\n",
        "            proj_index=index+1\n",
        "            break\n",
        "if proj_index==0:\n",
        "    print(\"ERROR in assigning Project ID\")\n",
        "project_id=response[proj_index]\n",
        "\n",
        "shell_command = f\"ibmcloud ilab config set project-id {project_id}\"\n",
        "!{shell_command}\n",
        "\n",
        "print(\"Check IBM Cloud COS authorization policies\")\n",
        "!ibmcloud iam authorization-policies\n",
        "\n",
        "# Set up COS Access Here\n",
        "print(\"Set up COS storage and check access\")\n",
        "endpoint_url = f'https://s3.{ibmcloud_region}.cloud-object-storage.appdomain.cloud'\n",
        "# Current list of auth_endpoints is at https://control.cloud-object-storage.cloud.ibm.com/v2/endpoints\n",
        "auth_endpoint = 'https://iam.cloud.ibm.com/identity/token'\n"
      ],
      "metadata": {
        "id": "vANOrWuwTAFA",
        "colab": {
          "base_uri": "https://localhost:8080/",
          "height": 1000
        },
        "outputId": "a3d27f77-28f9-4fca-dacf-7aedc7b735ed"
      },
      "execution_count": 5,
      "outputs": [
        {
          "output_type": "display_data",
          "data": {
            "text/plain": [
              "<IPython.core.display.HTML object>"
            ],
            "text/html": [
              "\n",
              "  <style>\n",
              "    pre {\n",
              "        white-space: pre-wrap;\n",
              "    }\n",
              "  </style>\n",
              "  "
            ]
          },
          "metadata": {}
        },
        {
          "output_type": "display_data",
          "data": {
            "text/plain": [
              "<IPython.core.display.HTML object>"
            ],
            "text/html": [
              "\n",
              "  <style>\n",
              "    pre {\n",
              "        white-space: pre-wrap;\n",
              "    }\n",
              "  </style>\n",
              "  "
            ]
          },
          "metadata": {}
        },
        {
          "output_type": "stream",
          "name": "stdout",
          "text": [
            "Initialize Red Hat AI InstructLab Access\n",
            "Installing the IBMCloud ilab plugin\n",
            "API endpoint: \u001b[36;1mhttps://cloud.ibm.com\u001b[0;22m\n",
            "Authenticating...\n",
            "\u001b[32;1mOK\u001b[0;22m\n",
            "\n",
            "Targeted account \u001b[36;1mIBM - Tyler's Account (837bf8218846470cad3ecf8bf7dcc43b) <-> 2095376\u001b[0;22m\n",
            "\n",
            "Targeted resource group \u001b[36;1mdefault\u001b[0;22m\n",
            "\n",
            "Targeted region \u001b[36;1mus-east\u001b[0;22m\n",
            "\n",
            "\n",
            "\u001b[36;1mAPI endpoint:\u001b[0;22m\u001b[0m     \u001b[36;1mhttps://cloud.ibm.com\u001b[0;22m\n",
            "\u001b[36;1mRegion:\u001b[0;22m           \u001b[36;1mus-east\u001b[0;22m\n",
            "\u001b[36;1mUser:\u001b[0;22m             \u001b[36;1mkrglosse@us.ibm.com\u001b[0;22m\n",
            "\u001b[36;1mAccount:\u001b[0;22m          \u001b[36;1mIBM - Tyler's Account (837bf8218846470cad3ecf8bf7dcc43b) <-> 2095376\u001b[0;22m\u001b[0m\n",
            "\u001b[36;1mResource group:\u001b[0;22m\u001b[0m   \u001b[36;1mdefault\u001b[0;22m\n",
            "\u001b[32;1mOK\u001b[0;22m\n",
            "Check IBM Cloud COS authorization policies\n",
            "Getting authorization policies under account \u001b[36;1m837bf8218846470cad3ecf8bf7dcc43b\u001b[0;22m as \u001b[36;1mkrglosse@us.ibm.com\u001b[0;22m...\n",
            "\u001b[32;1mOK\u001b[0;22m\n",
            "\n",
            "\u001b[36;1mID:\u001b[0;22m                        1e8d215c-6e09-4d45-ad04-d4c0650dde0a\n",
            "\u001b[36;1mSource service account:\u001b[0;22m\u001b[0m    8d28df3cd15b4072a69a252c0b2188fc\n",
            "\u001b[36;1mSource service name:\u001b[0;22m\u001b[0m       instructlab\n",
            "\u001b[36;1mSource service instance:\u001b[0;22m\u001b[0m   6a0f84d6-d9a9-40e2-882b-8599a8b07778\n",
            "\u001b[36;1mTarget service name:\u001b[0;22m\u001b[0m       secrets-manager\n",
            "\u001b[36;1mTarget service instance:\u001b[0;22m\u001b[0m   ad83723e-8cbd-400d-9ec8-c8f35ab65125\n",
            "\u001b[36;1mRoles:\u001b[0;22m                     SecretsReader\n",
            "\n",
            "\u001b[36;1mID:\u001b[0;22m                        3ebe5a6d-c7f6-487a-a258-e9cfb3a7aed1\n",
            "\u001b[36;1mSource service name:\u001b[0;22m\u001b[0m       project\n",
            "\u001b[36;1mSource service instance:\u001b[0;22m\u001b[0m   All instances\n",
            "\u001b[36;1mTarget service name:\u001b[0;22m\u001b[0m       secrets-manager\n",
            "\u001b[36;1mTarget service instance:\u001b[0;22m\u001b[0m   All instances\n",
            "\u001b[36;1mRoles:\u001b[0;22m                     Viewer, SecretsReader\n",
            "\n",
            "\u001b[36;1mID:\u001b[0;22m                        408565f4-00c7-4f0d-8c00-eb0a43770073\n",
            "\u001b[36;1mSource service name:\u001b[0;22m\u001b[0m       cloud-object-storage\n",
            "\u001b[36;1mSource service instance:\u001b[0;22m\u001b[0m   All instances\n",
            "\u001b[36;1mTarget service name:\u001b[0;22m\u001b[0m       satellite\n",
            "\u001b[36;1mTarget service instance:\u001b[0;22m\u001b[0m   All instances\n",
            "\u001b[36;1mRoles:\u001b[0;22m                     Satellite Cluster Creator, Satellite Link Administrator, Satellite Link Source Access Controller\n",
            "\n",
            "\u001b[36;1mID:\u001b[0;22m                        59046699-381d-4f94-a18e-f7d71c9a490e\n",
            "\u001b[36;1mSource service name:\u001b[0;22m\u001b[0m       instructlab\n",
            "\u001b[36;1mSource service instance:\u001b[0;22m\u001b[0m   60e5addc-87a6-4216-9009-6d247835c50f\n",
            "\u001b[36;1mTarget service name:\u001b[0;22m\u001b[0m       cloud-object-storage\n",
            "\u001b[36;1mTarget service instance:\u001b[0;22m\u001b[0m   8e0367f5-6855-4a51-8d59-040187c7350b\n",
            "\u001b[36;1mRoles:\u001b[0;22m                     Writer\n",
            "\n",
            "\u001b[36;1mID:\u001b[0;22m                        62a0cf4d-e2ca-41b7-bfb0-538907ece3d5\n",
            "\u001b[36;1mSource service name:\u001b[0;22m\u001b[0m       compliance\n",
            "\u001b[36;1mSource service instance:\u001b[0;22m\u001b[0m   All instances\n",
            "\u001b[36;1mTarget service name:\u001b[0;22m\u001b[0m       containers-kubernetes\n",
            "\u001b[36;1mTarget service instance:\u001b[0;22m\u001b[0m   All instances\n",
            "\u001b[36;1mRoles:\u001b[0;22m                     Compliance Management, Reader, Viewer\n",
            "\n",
            "\u001b[36;1mID:\u001b[0;22m                        63599e91-c878-4fac-8ccf-8d28a726658e\n",
            "\u001b[36;1mSource service name:\u001b[0;22m\u001b[0m       compliance\n",
            "\u001b[36;1mSource service instance:\u001b[0;22m\u001b[0m   All instances\n",
            "\u001b[36;1mTarget service name:\u001b[0;22m\u001b[0m       satellite\n",
            "\u001b[36;1mTarget service instance:\u001b[0;22m\u001b[0m   All instances\n",
            "\u001b[36;1mRoles:\u001b[0;22m                     Viewer\n",
            "\n",
            "\u001b[36;1mID:\u001b[0;22m                        67fe9d4a-0cf8-4b0b-9a8a-813264a5fd24\n",
            "\u001b[36;1mSource service name:\u001b[0;22m\u001b[0m       containers-kubernetes\n",
            "\u001b[36;1mSource service instance:\u001b[0;22m\u001b[0m   All instances\n",
            "\u001b[36;1mTarget service name:\u001b[0;22m\u001b[0m       kms\n",
            "\u001b[36;1mTarget service instance:\u001b[0;22m\u001b[0m   All instances\n",
            "\u001b[36;1mRoles:\u001b[0;22m                     Reader\n",
            "\n",
            "\u001b[36;1mID:\u001b[0;22m                        6d79b58e-e492-4cff-a8c7-33f0ec22887d\n",
            "\u001b[36;1mSource service name:\u001b[0;22m\u001b[0m       atracker\n",
            "\u001b[36;1mSource service instance:\u001b[0;22m\u001b[0m   All instances\n",
            "\u001b[36;1mTarget service name:\u001b[0;22m\u001b[0m       logs\n",
            "\u001b[36;1mTarget service instance:\u001b[0;22m\u001b[0m   All instances\n",
            "\u001b[36;1mRoles:\u001b[0;22m                     Sender\n",
            "\n",
            "\u001b[36;1mID:\u001b[0;22m                        6e034982-cf13-4449-8052-f8255d3fa69a\n",
            "\u001b[36;1mSource service name:\u001b[0;22m\u001b[0m       instructlab\n",
            "\u001b[36;1mSource service instance:\u001b[0;22m\u001b[0m   All instances\n",
            "\u001b[36;1mTarget service name:\u001b[0;22m\u001b[0m       cloud-object-storage\n",
            "\u001b[36;1mTarget service instance:\u001b[0;22m\u001b[0m   All instances\n",
            "\u001b[36;1mRoles:\u001b[0;22m                     Writer\n",
            "\n",
            "\u001b[36;1mID:\u001b[0;22m                        7f85b7ff-eb51-41eb-af30-2caeba9209fe\n",
            "\u001b[36;1mSource service name:\u001b[0;22m\u001b[0m       containers-kubernetes\n",
            "\u001b[36;1mSource service instance:\u001b[0;22m\u001b[0m   All instances\n",
            "\u001b[36;1mTarget service name:\u001b[0;22m\u001b[0m       hs-crypto\n",
            "\u001b[36;1mTarget service instance:\u001b[0;22m\u001b[0m   All instances\n",
            "\u001b[36;1mRoles:\u001b[0;22m                     Reader\n",
            "\n",
            "\u001b[36;1mID:\u001b[0;22m                        8a83e8ce-67fc-463d-b0a4-2c1cd4650ce2\n",
            "\u001b[36;1mSource service name:\u001b[0;22m\u001b[0m       project\n",
            "\u001b[36;1mSource service instance:\u001b[0;22m\u001b[0m   All instances\n",
            "\u001b[36;1mTarget service name:\u001b[0;22m\u001b[0m       schematics\n",
            "\u001b[36;1mTarget service instance:\u001b[0;22m\u001b[0m   All instances\n",
            "\u001b[36;1mRoles:\u001b[0;22m                     Manager, Administrator\n",
            "\n",
            "\u001b[36;1mID:\u001b[0;22m                        9691e4ce-ee65-42a4-b1d1-cd9ff89607a7\n",
            "\u001b[36;1mSource service name:\u001b[0;22m\u001b[0m       instructlab\n",
            "\u001b[36;1mSource service instance:\u001b[0;22m\u001b[0m   All instances\n",
            "\u001b[36;1mTarget service name:\u001b[0;22m\u001b[0m       secrets-manager\n",
            "\u001b[36;1mTarget service instance:\u001b[0;22m\u001b[0m   All instances\n",
            "\u001b[36;1mRoles:\u001b[0;22m                     SecretsReader\n",
            "\n",
            "\u001b[36;1mID:\u001b[0;22m                        9b58375e-ad9b-40ab-a057-acbc9eaeead5\n",
            "\u001b[36;1mSource service name:\u001b[0;22m\u001b[0m       compliance\n",
            "\u001b[36;1mSource service instance:\u001b[0;22m\u001b[0m   All instances\n",
            "\u001b[36;1mTarget service name:\u001b[0;22m\u001b[0m       cloud-object-storage\n",
            "\u001b[36;1mTarget service instance:\u001b[0;22m\u001b[0m   ad83723e-8cbd-400d-9ec8-c8f35ab65125\n",
            "\u001b[36;1mRoles:\u001b[0;22m                     Writer\n",
            "\n",
            "\u001b[36;1mID:\u001b[0;22m                        acf71115-1256-4e65-bfe1-ce752b7d9a76\n",
            "\u001b[36;1mSource service name:\u001b[0;22m\u001b[0m       is\n",
            "\u001b[36;1mSource service instance:\u001b[0;22m\u001b[0m   All instances\n",
            "\u001b[36;1mSource resource type:\u001b[0;22m\u001b[0m      image\n",
            "\u001b[36;1mTarget service name:\u001b[0;22m\u001b[0m       cloud-object-storage\n",
            "\u001b[36;1mTarget service instance:\u001b[0;22m\u001b[0m   All instances\n",
            "\u001b[36;1mRoles:\u001b[0;22m                     Reader\n",
            "\n",
            "\u001b[36;1mID:\u001b[0;22m                        d1b4b1f5-47e0-481a-84d1-80fd036bc69e\n",
            "\u001b[36;1mSource service account:\u001b[0;22m\u001b[0m    8d28df3cd15b4072a69a252c0b2188fc\n",
            "\u001b[36;1mSource service name:\u001b[0;22m\u001b[0m       instructlab\n",
            "\u001b[36;1mSource service instance:\u001b[0;22m\u001b[0m   6a0f84d6-d9a9-40e2-882b-8599a8b07778\n",
            "\u001b[36;1mTarget service name:\u001b[0;22m\u001b[0m       cloud-object-storage\n",
            "\u001b[36;1mTarget service instance:\u001b[0;22m\u001b[0m   All instances\n",
            "\u001b[36;1mTarget resource type:\u001b[0;22m\u001b[0m      bucket\n",
            "\u001b[36;1mRoles:\u001b[0;22m                     Writer\n",
            "\n",
            "\u001b[36;1mID:\u001b[0;22m                        dc97cc9e-e2c1-45b6-980b-dbdce786108e\n",
            "\u001b[36;1mSource service name:\u001b[0;22m\u001b[0m       project\n",
            "\u001b[36;1mSource service instance:\u001b[0;22m\u001b[0m   All instances\n",
            "\u001b[36;1mTarget service instance:\u001b[0;22m\u001b[0m   All instances\n",
            "\u001b[36;1mTarget resource type:\u001b[0;22m\u001b[0m      resource-group\n",
            "\u001b[36;1mRoles:\u001b[0;22m                     Viewer\n",
            "\n",
            "\u001b[36;1mID:\u001b[0;22m                        dd673fe0-6349-4de2-ab5d-1731bf30f510\n",
            "\u001b[36;1mSource service name:\u001b[0;22m\u001b[0m       compliance\n",
            "\u001b[36;1mSource service instance:\u001b[0;22m\u001b[0m   All instances\n",
            "\u001b[36;1mTarget service name:\u001b[0;22m\u001b[0m       cloud-object-storage\n",
            "\u001b[36;1mTarget service instance:\u001b[0;22m\u001b[0m   All instances\n",
            "\u001b[36;1mRoles:\u001b[0;22m                     Writer\n",
            "\n",
            "\u001b[36;1mID:\u001b[0;22m                        ea8bdae7-7ba1-4861-ac44-53a93e91cffe\n",
            "\u001b[36;1mSource service name:\u001b[0;22m\u001b[0m       project\n",
            "\u001b[36;1mSource service instance:\u001b[0;22m\u001b[0m   All instances\n",
            "\u001b[36;1mTarget service name:\u001b[0;22m\u001b[0m       globalcatalog-collection\n",
            "\u001b[36;1mTarget service instance:\u001b[0;22m\u001b[0m   All instances\n",
            "\u001b[36;1mRoles:\u001b[0;22m                     Viewer\n",
            "\n",
            "\u001b[36;1mID:\u001b[0;22m                        edf6d843-f922-41eb-b1d6-2fd6572e6e7a\n",
            "\u001b[36;1mSource service account:\u001b[0;22m\u001b[0m    bab556e1c47446ef8da61e399343a3e7\n",
            "\u001b[36;1mSource service name:\u001b[0;22m\u001b[0m       server-protect\n",
            "\u001b[36;1mSource service instance:\u001b[0;22m\u001b[0m   All instances\n",
            "\u001b[36;1mTarget service name:\u001b[0;22m\u001b[0m       kms\n",
            "\u001b[36;1mTarget service instance:\u001b[0;22m\u001b[0m   All instances\n",
            "\u001b[36;1mRoles:\u001b[0;22m                     Reader\n",
            "\n",
            "\u001b[36;1mID:\u001b[0;22m                        f64a3409-9c79-4cc8-b889-953281302d53\n",
            "\u001b[36;1mSource service name:\u001b[0;22m\u001b[0m       is\n",
            "\u001b[36;1mSource service instance:\u001b[0;22m\u001b[0m   All instances\n",
            "\u001b[36;1mSource resource type:\u001b[0;22m\u001b[0m      vpn-server\n",
            "\u001b[36;1mTarget service name:\u001b[0;22m\u001b[0m       secrets-manager\n",
            "\u001b[36;1mTarget service instance:\u001b[0;22m\u001b[0m   All instances\n",
            "\u001b[36;1mRoles:\u001b[0;22m                     SecretsReader\n",
            "Set up COS storage and check access\n"
          ]
        }
      ]
    },
    {
      "cell_type": "markdown",
      "source": [
        "\n",
        "# Step 4. Check the Format of the QNA YAML Files\n",
        "\n",
        "Running this cell checks the format of the yaml files before they are placed in the taxonomy to ensure they are the right length and there are no trailing blanks.\n",
        "\n",
        "**Important:** Rerun the following cell until all of the QNA files pass the yamllint test. Otherwise the file will fail in the Synthetic Data Generation step.\n"
      ],
      "metadata": {
        "id": "7O2uP8Fm26EK"
      }
    },
    {
      "cell_type": "code",
      "source": [
        "import yamllint\n",
        "# Select the folder of the dataset\n",
        "use_cases = {\"2024 Oscars\": \"oscars\", \"Quantum\": \"quantum\", \"Agentic AI\": \"agentic_ai\",\n",
        "            \"Multi-QNA Example\": \"example\",\"Your Content 1\": \"your_content_1\", \"Your Content 2\": \"your_content_2\"}\n",
        "use_case = use_cases[data_set.value]\n",
        "qna_dir = \"data/\" + use_case + \"/\"\n",
        "print(\"Running yaml checker on \" + data_set.value + \" data in folder \" + qna_dir)\n",
        "for f in os.listdir(qna_dir):\n",
        "    f=f.lower()\n",
        "    if f.startswith('qna'):\n",
        "      print(\"Checking File: \" + f)\n",
        "      yaml_file = qna_dir + f\n",
        "      shell_command = f\"yamllint /content/ilab/{yaml_file} -c /content/ilab/yamlrules.yaml\"\n",
        "      !{shell_command}"
      ],
      "metadata": {
        "id": "ZgS0Z9V926-Y",
        "colab": {
          "base_uri": "https://localhost:8080/",
          "height": 52
        },
        "outputId": "04134e0d-e4df-4818-bd66-4cc55bf76b7b"
      },
      "execution_count": 8,
      "outputs": [
        {
          "output_type": "display_data",
          "data": {
            "text/plain": [
              "<IPython.core.display.HTML object>"
            ],
            "text/html": [
              "\n",
              "  <style>\n",
              "    pre {\n",
              "        white-space: pre-wrap;\n",
              "    }\n",
              "  </style>\n",
              "  "
            ]
          },
          "metadata": {}
        },
        {
          "output_type": "display_data",
          "data": {
            "text/plain": [
              "<IPython.core.display.HTML object>"
            ],
            "text/html": [
              "\n",
              "  <style>\n",
              "    pre {\n",
              "        white-space: pre-wrap;\n",
              "    }\n",
              "  </style>\n",
              "  "
            ]
          },
          "metadata": {}
        },
        {
          "output_type": "stream",
          "name": "stdout",
          "text": [
            "Running yaml checker on Your Content 1 data in folder data/your_content_1/\n",
            "Checking File: qna.yaml\n"
          ]
        }
      ]
    },
    {
      "cell_type": "markdown",
      "source": [
        "# Step 5. Create the Taxonomy with the QNA Files\n",
        "Running this next cell places the QNA files in the proper directories of the taxonomy.\n",
        "\n",
        "If you want to add additional QNA files to the taxonomy after the following cell is run, you can create the necessary levels of directories and add the qna.yaml named file directly to the taxonomy.\n"
      ],
      "metadata": {
        "id": "KERRJu_tO2TM"
      }
    },
    {
      "cell_type": "code",
      "source": [
        "# List all of the files in the use_case directory that begin with QNA\n",
        "print_lines=30\n",
        "for f in os.listdir(qna_dir):\n",
        "    f=f.lower()\n",
        "    if f.startswith('qna'):\n",
        "        qna_file = qna_dir + f\n",
        "        print(\"Show the QNA file: \" + qna_file)\n",
        "        with open(qna_file, 'r') as input_file:\n",
        "            for line_number, line in enumerate(input_file):\n",
        "                if line_number == 0:\n",
        "                    words = line.split()\n",
        "                    print(words)\n",
        "                    print(words[0])\n",
        "                    if words[0] == \"# location:\" and len(words) == 2:\n",
        "                      qna_location = words[1]\n",
        "                    else:\n",
        "                      print(\"ERROR: No specificed location found in QNA File: \" + qna_file)\n",
        "                      break\n",
        "                if line_number > print_lines:  # line_number starts at 0.\n",
        "                    break\n",
        "                print(line_number, line, end=\"\")\n",
        "        # Place the QNA file in the proper taxonomy directory if it does not already exist\n",
        "        new_qna_dir = \"/taxonomy\" + qna_location\n",
        "        if os.path.exists(os.getcwd()+new_qna_dir):\n",
        "            print(\"\\nWARNING: QNA file already exists in the taxonomy at duplicate location, not inserting\")\n",
        "        else:\n",
        "            print(\"\\nPlace QNA file in taxononmy as: /taxonomy\"+qna_location+\"/qna.yaml\")\n",
        "            shell_command1 = f\"mkdir -p ./taxonomy{qna_location}\"\n",
        "            shell_command2 = f\"cp ./{qna_file} ./taxonomy{qna_location}/qna.yaml\"\n",
        "            !{shell_command1}\n",
        "            !{shell_command2}"
      ],
      "metadata": {
        "id": "-X2p2l9KO1PA",
        "colab": {
          "base_uri": "https://localhost:8080/",
          "height": 280
        },
        "outputId": "da8286c1-3edb-4f33-865d-a984a9a5a7b9"
      },
      "execution_count": 11,
      "outputs": [
        {
          "output_type": "display_data",
          "data": {
            "text/plain": [
              "<IPython.core.display.HTML object>"
            ],
            "text/html": [
              "\n",
              "  <style>\n",
              "    pre {\n",
              "        white-space: pre-wrap;\n",
              "    }\n",
              "  </style>\n",
              "  "
            ]
          },
          "metadata": {}
        },
        {
          "output_type": "display_data",
          "data": {
            "text/plain": [
              "<IPython.core.display.HTML object>"
            ],
            "text/html": [
              "\n",
              "  <style>\n",
              "    pre {\n",
              "        white-space: pre-wrap;\n",
              "    }\n",
              "  </style>\n",
              "  "
            ]
          },
          "metadata": {}
        },
        {
          "output_type": "stream",
          "name": "stdout",
          "text": [
            "Show the QNA file: data/your_content_1/qna.yaml\n",
            "['#', 'location:', '/knowledge/astrology/test/phoenix']\n",
            "#\n",
            "ERROR: No specificed location found in QNA File: data/your_content_1/qna.yaml\n"
          ]
        },
        {
          "output_type": "error",
          "ename": "NameError",
          "evalue": "name 'qna_location' is not defined",
          "traceback": [
            "\u001b[0;31m---------------------------------------------------------------------------\u001b[0m",
            "\u001b[0;31mNameError\u001b[0m                                 Traceback (most recent call last)",
            "\u001b[0;32m<ipython-input-11-b1f2a4ee9fae>\u001b[0m in \u001b[0;36m<cell line: 0>\u001b[0;34m()\u001b[0m\n\u001b[1;32m     21\u001b[0m                 \u001b[0mprint\u001b[0m\u001b[0;34m(\u001b[0m\u001b[0mline_number\u001b[0m\u001b[0;34m,\u001b[0m \u001b[0mline\u001b[0m\u001b[0;34m,\u001b[0m \u001b[0mend\u001b[0m\u001b[0;34m=\u001b[0m\u001b[0;34m\"\"\u001b[0m\u001b[0;34m)\u001b[0m\u001b[0;34m\u001b[0m\u001b[0;34m\u001b[0m\u001b[0m\n\u001b[1;32m     22\u001b[0m         \u001b[0;31m# Place the QNA file in the proper taxonomy directory if it does not already exist\u001b[0m\u001b[0;34m\u001b[0m\u001b[0;34m\u001b[0m\u001b[0m\n\u001b[0;32m---> 23\u001b[0;31m         \u001b[0mnew_qna_dir\u001b[0m \u001b[0;34m=\u001b[0m \u001b[0;34m\"/taxonomy\"\u001b[0m \u001b[0;34m+\u001b[0m \u001b[0mqna_location\u001b[0m\u001b[0;34m\u001b[0m\u001b[0;34m\u001b[0m\u001b[0m\n\u001b[0m\u001b[1;32m     24\u001b[0m         \u001b[0;32mif\u001b[0m \u001b[0mos\u001b[0m\u001b[0;34m.\u001b[0m\u001b[0mpath\u001b[0m\u001b[0;34m.\u001b[0m\u001b[0mexists\u001b[0m\u001b[0;34m(\u001b[0m\u001b[0mos\u001b[0m\u001b[0;34m.\u001b[0m\u001b[0mgetcwd\u001b[0m\u001b[0;34m(\u001b[0m\u001b[0;34m)\u001b[0m\u001b[0;34m+\u001b[0m\u001b[0mnew_qna_dir\u001b[0m\u001b[0;34m)\u001b[0m\u001b[0;34m:\u001b[0m\u001b[0;34m\u001b[0m\u001b[0;34m\u001b[0m\u001b[0m\n\u001b[1;32m     25\u001b[0m             \u001b[0mprint\u001b[0m\u001b[0;34m(\u001b[0m\u001b[0;34m\"\\nWARNING: QNA file already exists in the taxonomy at duplicate location, not inserting\"\u001b[0m\u001b[0;34m)\u001b[0m\u001b[0;34m\u001b[0m\u001b[0;34m\u001b[0m\u001b[0m\n",
            "\u001b[0;31mNameError\u001b[0m: name 'qna_location' is not defined"
          ]
        }
      ]
    },
    {
      "cell_type": "markdown",
      "source": [
        "# Step 6. Verify the Taxonomy Data Repository\n",
        "Run diff to verify the taxonomy. Record the errors on this step and correct them in your QNA files and then rerun the notebook with the corrected QNA files."
      ],
      "metadata": {
        "id": "z2sAO4goK9sO"
      }
    },
    {
      "cell_type": "code",
      "source": [
        "print(\"Verify the taxonomy\")\n",
        "!ilab taxonomy diff"
      ],
      "metadata": {
        "id": "CVH7U6aiK-ds"
      },
      "execution_count": null,
      "outputs": []
    },
    {
      "cell_type": "markdown",
      "metadata": {
        "id": "w5l5m7L_LDV1"
      },
      "source": [
        "# Step 7. Add the Taxonomy to the Cloud\n"
      ]
    },
    {
      "cell_type": "code",
      "execution_count": null,
      "metadata": {
        "id": "kx65h6u17SW_"
      },
      "outputs": [],
      "source": [
        "set_name=use_case\n",
        "tax_dir= os.getcwd()+\"/taxonomy\"\n",
        "shell_command = f\"ibmcloud ilab taxonomy add --name {set_name} --taxonomy-path {tax_dir} \\\n",
        "--cos-endpoint https://s3.us-east.cloud-object-storage.appdomain.cloud \\\n",
        "--cos-id {cos_id} \\\n",
        "--cos-bucket {cos_bucket}\"\n",
        "\n",
        "print(\"Add the taxonomy to the cloud\")\n",
        "tax_response = subprocess.check_output(shell_command, shell=True)\n",
        "print(\"Taxonomy added\")\n",
        "\n",
        "response= tax_response.decode(\"utf-8\").split()\n",
        "for index, word in enumerate(response):\n",
        "    if word == \"id\":\n",
        "        break\n",
        "tax_id = response[index+1]\n",
        "\n",
        "print(\"taxonomy id = \" + tax_id)"
      ]
    },
    {
      "cell_type": "markdown",
      "metadata": {
        "id": "63hBXXa0vxgl",
        "tags": []
      },
      "source": [
        "<a id=\"IL3_learn\"></a>\n",
        "# Learn More\n",
        "\n",
        "InstructLab uses a novel synthetic data-based alignment tuning method for Large Language Models introduced in this [paper](https://arxiv.org/abs/2403.01081).\n",
        "\n",
        "This notebook is based on the InstructLab CLI repository available [here](https://github.com/instructlab/instructlab).\n",
        "\n",
        "Contact us by email to ask questions, discuss potential use cases, or schedule a technical deep dive. The contact email is IBM.Research.JupyterLab@ibm.com."
      ]
    },
    {
      "cell_type": "markdown",
      "metadata": {
        "id": "poB7nDmcvxgl"
      },
      "source": [
        "© 2025 IBM Corporation"
      ]
    }
  ],
  "metadata": {
    "colab": {
      "machine_shape": "hm",
      "provenance": []
    },
    "kernelspec": {
      "display_name": "Python 3",
      "name": "python3"
    },
    "language_info": {
      "codemirror_mode": {
        "name": "ipython",
        "version": 3
      },
      "file_extension": ".py",
      "mimetype": "text/x-python",
      "name": "python",
      "nbconvert_exporter": "python",
      "pygments_lexer": "ipython3",
      "version": "3.11.5"
    },
    "widgets": {
      "application/vnd.jupyter.widget-state+json": {
        "0387f0f4c1b74158bce8e990f0eb9f71": {
          "model_module": "@jupyter-widgets/controls",
          "model_name": "ToggleButtonsModel",
          "model_module_version": "1.5.0",
          "state": {
            "_dom_classes": [],
            "_model_module": "@jupyter-widgets/controls",
            "_model_module_version": "1.5.0",
            "_model_name": "ToggleButtonsModel",
            "_options_labels": [
              "2024 Oscars",
              "Quantum",
              "Agentic AI",
              "Multi-QNA Example",
              "Your Content 1",
              "Your Content 2"
            ],
            "_view_count": null,
            "_view_module": "@jupyter-widgets/controls",
            "_view_module_version": "1.5.0",
            "_view_name": "ToggleButtonsView",
            "button_style": "",
            "description": "Dataset:",
            "description_tooltip": null,
            "disabled": false,
            "icons": [],
            "index": 4,
            "layout": "IPY_MODEL_8f64cbbffce0498bae38e21dca067cef",
            "style": "IPY_MODEL_d3cec2dd56514dbf85262b9291ef230b",
            "tooltips": []
          }
        },
        "8f64cbbffce0498bae38e21dca067cef": {
          "model_module": "@jupyter-widgets/base",
          "model_name": "LayoutModel",
          "model_module_version": "1.2.0",
          "state": {
            "_model_module": "@jupyter-widgets/base",
            "_model_module_version": "1.2.0",
            "_model_name": "LayoutModel",
            "_view_count": null,
            "_view_module": "@jupyter-widgets/base",
            "_view_module_version": "1.2.0",
            "_view_name": "LayoutView",
            "align_content": null,
            "align_items": null,
            "align_self": null,
            "border": null,
            "bottom": null,
            "display": null,
            "flex": null,
            "flex_flow": null,
            "grid_area": null,
            "grid_auto_columns": null,
            "grid_auto_flow": null,
            "grid_auto_rows": null,
            "grid_column": null,
            "grid_gap": null,
            "grid_row": null,
            "grid_template_areas": null,
            "grid_template_columns": null,
            "grid_template_rows": null,
            "height": null,
            "justify_content": null,
            "justify_items": null,
            "left": null,
            "margin": null,
            "max_height": null,
            "max_width": null,
            "min_height": null,
            "min_width": null,
            "object_fit": null,
            "object_position": null,
            "order": null,
            "overflow": null,
            "overflow_x": null,
            "overflow_y": null,
            "padding": null,
            "right": null,
            "top": null,
            "visibility": null,
            "width": null
          }
        },
        "d3cec2dd56514dbf85262b9291ef230b": {
          "model_module": "@jupyter-widgets/controls",
          "model_name": "ToggleButtonsStyleModel",
          "model_module_version": "1.5.0",
          "state": {
            "_model_module": "@jupyter-widgets/controls",
            "_model_module_version": "1.5.0",
            "_model_name": "ToggleButtonsStyleModel",
            "_view_count": null,
            "_view_module": "@jupyter-widgets/base",
            "_view_module_version": "1.2.0",
            "_view_name": "StyleView",
            "button_width": "auto",
            "description_width": "",
            "font_weight": ""
          }
        }
      }
    }
  },
  "nbformat": 4,
  "nbformat_minor": 0
}